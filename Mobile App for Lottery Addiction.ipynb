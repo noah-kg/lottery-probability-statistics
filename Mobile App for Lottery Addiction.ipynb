{
 "cells": [
  {
   "cell_type": "markdown",
   "id": "7191dcff",
   "metadata": {},
   "source": [
    "<div>\n",
    "    <img src = \"https://www.rd.com/wp-content/uploads/2019/03/shutterstock_1113632312-scaled.jpg\" width=\"800\">\n",
    "</div>\n",
    "\n",
    "# Mobile App for Lottery Addiction\n",
    "\n",
    "Gambling can be very fun for many people. For some, however, it can become a habit, which then leads to addiction. Addiction to gambling can cause desperate behaviors, such as spending savings and loans, accumlating debt, and even theft.\n",
    "\n",
    "A medical institute wants to try and combat this problem through the used of a dedicated mobile app to help lottery addicts better estimate their chances of winning. The institute already has engineers to build the app, but they want us to calculate some probabilities.\n",
    "\n",
    "For the first version of the app, they want us to focus on the 6/49 lottery and build functions that enable users to answer questions like:\n",
    "\n",
    "* What is the probability of winning the big prize with a single ticket?\n",
    "* What is the probability of winning the big prize if we play 40 different tickets (or any other number)?\n",
    "* What is the probability of having at least five (or four, or three, or two) winning numbers on a single ticket?\n",
    "\n",
    "Because we're dealing with probabilities and combinations, it will be helpful to have some functions that will do the math for us:\n"
   ]
  },
  {
   "cell_type": "code",
   "execution_count": 1,
   "id": "496db6d6",
   "metadata": {
    "ExecuteTime": {
     "end_time": "2021-12-15T01:53:58.095788Z",
     "start_time": "2021-12-15T01:53:58.091884Z"
    },
    "execution": {
     "iopub.execute_input": "2022-04-29T16:04:53.185585Z",
     "iopub.status.busy": "2022-04-29T16:04:53.185585Z",
     "iopub.status.idle": "2022-04-29T16:04:53.206097Z",
     "shell.execute_reply": "2022-04-29T16:04:53.206097Z",
     "shell.execute_reply.started": "2022-04-29T16:04:53.185585Z"
    }
   },
   "outputs": [],
   "source": [
    "def factorial(n):\n",
    "    final = 1\n",
    "    for i in range(n,0,-1):\n",
    "        final = final * i\n",
    "    return final\n",
    "\n",
    "def permutation(n,k):\n",
    "    return (factorial(n) / factorial(n-k))\n",
    "\n",
    "def combinations(n,k):\n",
    "    return factorial(n) / (factorial(k)*factorial(n-k))"
   ]
  },
  {
   "cell_type": "markdown",
   "id": "67413130",
   "metadata": {},
   "source": [
    "In the 6/49 lottery, players pick six different numbers from the set of numbers from 1 to 49. If the same six numbers are drawn, that player wins the big prize. The player must have all six numbers matching the numbers drawn in order to win. If only a single number is different, he doesn't win.\n",
    "\n",
    "For the first version of the app, we want the players to be able to simulate their probability of winning the big prize with the various numbers they like to play on a single ticket (one ticket = six chosen numbers). Our first task then is to build a function that calculates the probability of winning the big prize for any given ticket.\n",
    "\n",
    "Before moving forward, the engineering team at the medical institute let us know a few things:\n",
    "\n",
    "* In the app, the user inputs six different numbers from 1 to 49.\n",
    "* Under the hood, the six numbers will be in the form of a Python list.\n",
    "* The engineering team wants the probability to be displayed in a friendly way - in a way that people without any knowledge or probability training could understand."
   ]
  },
  {
   "cell_type": "markdown",
   "id": "9f292f5a",
   "metadata": {},
   "source": [
    "## Single-Ticket Probability\n",
    "Below is our function to calculate the probability of winning the big prize on a single ticket, followed by some test inputs."
   ]
  },
  {
   "cell_type": "code",
   "execution_count": 2,
   "id": "2e8aa1b1",
   "metadata": {
    "ExecuteTime": {
     "end_time": "2021-12-15T01:53:58.107937Z",
     "start_time": "2021-12-15T01:53:58.096805Z"
    },
    "execution": {
     "iopub.execute_input": "2022-04-29T16:04:53.208092Z",
     "iopub.status.busy": "2022-04-29T16:04:53.208092Z",
     "iopub.status.idle": "2022-04-29T16:04:53.221102Z",
     "shell.execute_reply": "2022-04-29T16:04:53.221102Z",
     "shell.execute_reply.started": "2022-04-29T16:04:53.208092Z"
    }
   },
   "outputs": [],
   "source": [
    "def one_ticket(nums):\n",
    "    total_outcomes = combinations(49,len(nums))\n",
    "    prob_single = 1/total_outcomes\n",
    "    pct = prob_single * 100\n",
    "    print('The probability of winning with the numbers {} is: {:.7f}%. In other words, you have 1 in {:,} chances to win.'.format(nums, pct, int(total_outcomes)))"
   ]
  },
  {
   "cell_type": "code",
   "execution_count": 3,
   "id": "b472678f",
   "metadata": {
    "ExecuteTime": {
     "end_time": "2021-12-15T01:53:58.112816Z",
     "start_time": "2021-12-15T01:53:58.108913Z"
    },
    "execution": {
     "iopub.execute_input": "2022-04-29T16:04:53.222100Z",
     "iopub.status.busy": "2022-04-29T16:04:53.222100Z",
     "iopub.status.idle": "2022-04-29T16:04:53.236885Z",
     "shell.execute_reply": "2022-04-29T16:04:53.236885Z",
     "shell.execute_reply.started": "2022-04-29T16:04:53.222100Z"
    }
   },
   "outputs": [
    {
     "name": "stdout",
     "output_type": "stream",
     "text": [
      "The probability of winning with the numbers [2, 5, 9, 34, 23, 22] is: 0.0000072%. In other words, you have 1 in 13,983,816 chances to win.\n"
     ]
    }
   ],
   "source": [
    "test1 = [2,5,9,34,23,22]\n",
    "one_ticket(test1)"
   ]
  },
  {
   "cell_type": "code",
   "execution_count": 4,
   "id": "77dfa1ca",
   "metadata": {
    "ExecuteTime": {
     "end_time": "2021-12-15T01:53:58.117697Z",
     "start_time": "2021-12-15T01:53:58.113793Z"
    },
    "execution": {
     "iopub.execute_input": "2022-04-29T16:04:53.237883Z",
     "iopub.status.busy": "2022-04-29T16:04:53.237883Z",
     "iopub.status.idle": "2022-04-29T16:04:53.252475Z",
     "shell.execute_reply": "2022-04-29T16:04:53.252475Z",
     "shell.execute_reply.started": "2022-04-29T16:04:53.237883Z"
    }
   },
   "outputs": [
    {
     "name": "stdout",
     "output_type": "stream",
     "text": [
      "The probability of winning with the numbers [4, 8, 15, 16, 23, 42] is: 0.0000072%. In other words, you have 1 in 13,983,816 chances to win.\n"
     ]
    }
   ],
   "source": [
    "test2 = [4,8,15,16,23,42]\n",
    "one_ticket(test2)"
   ]
  },
  {
   "cell_type": "markdown",
   "id": "986bd953",
   "metadata": {},
   "source": [
    "## A Single Ticket Compared To Historical Lottery Data\n",
    "\n",
    "For the first version of the app, users will also be able to compare their chosen numbers to the entire history of the 6/49 Lottery to see if their numbers have ever been picked."
   ]
  },
  {
   "cell_type": "code",
   "execution_count": 5,
   "id": "3a032311",
   "metadata": {
    "ExecuteTime": {
     "end_time": "2021-12-15T01:53:58.135265Z",
     "start_time": "2021-12-15T01:53:58.118673Z"
    },
    "execution": {
     "iopub.execute_input": "2022-04-29T16:04:53.253472Z",
     "iopub.status.busy": "2022-04-29T16:04:53.253472Z",
     "iopub.status.idle": "2022-04-29T16:04:53.283119Z",
     "shell.execute_reply": "2022-04-29T16:04:53.283119Z",
     "shell.execute_reply.started": "2022-04-29T16:04:53.253472Z"
    }
   },
   "outputs": [
    {
     "name": "stdout",
     "output_type": "stream",
     "text": [
      "(3665, 11)\n"
     ]
    },
    {
     "data": {
      "text/html": [
       "<div>\n",
       "<style scoped>\n",
       "    .dataframe tbody tr th:only-of-type {\n",
       "        vertical-align: middle;\n",
       "    }\n",
       "\n",
       "    .dataframe tbody tr th {\n",
       "        vertical-align: top;\n",
       "    }\n",
       "\n",
       "    .dataframe thead th {\n",
       "        text-align: right;\n",
       "    }\n",
       "</style>\n",
       "<table border=\"1\" class=\"dataframe\">\n",
       "  <thead>\n",
       "    <tr style=\"text-align: right;\">\n",
       "      <th></th>\n",
       "      <th>PRODUCT</th>\n",
       "      <th>DRAW NUMBER</th>\n",
       "      <th>SEQUENCE NUMBER</th>\n",
       "      <th>DRAW DATE</th>\n",
       "      <th>NUMBER DRAWN 1</th>\n",
       "      <th>NUMBER DRAWN 2</th>\n",
       "      <th>NUMBER DRAWN 3</th>\n",
       "      <th>NUMBER DRAWN 4</th>\n",
       "      <th>NUMBER DRAWN 5</th>\n",
       "      <th>NUMBER DRAWN 6</th>\n",
       "      <th>BONUS NUMBER</th>\n",
       "    </tr>\n",
       "  </thead>\n",
       "  <tbody>\n",
       "    <tr>\n",
       "      <th>0</th>\n",
       "      <td>649</td>\n",
       "      <td>1</td>\n",
       "      <td>0</td>\n",
       "      <td>6/12/1982</td>\n",
       "      <td>3</td>\n",
       "      <td>11</td>\n",
       "      <td>12</td>\n",
       "      <td>14</td>\n",
       "      <td>41</td>\n",
       "      <td>43</td>\n",
       "      <td>13</td>\n",
       "    </tr>\n",
       "    <tr>\n",
       "      <th>1</th>\n",
       "      <td>649</td>\n",
       "      <td>2</td>\n",
       "      <td>0</td>\n",
       "      <td>6/19/1982</td>\n",
       "      <td>8</td>\n",
       "      <td>33</td>\n",
       "      <td>36</td>\n",
       "      <td>37</td>\n",
       "      <td>39</td>\n",
       "      <td>41</td>\n",
       "      <td>9</td>\n",
       "    </tr>\n",
       "    <tr>\n",
       "      <th>2</th>\n",
       "      <td>649</td>\n",
       "      <td>3</td>\n",
       "      <td>0</td>\n",
       "      <td>6/26/1982</td>\n",
       "      <td>1</td>\n",
       "      <td>6</td>\n",
       "      <td>23</td>\n",
       "      <td>24</td>\n",
       "      <td>27</td>\n",
       "      <td>39</td>\n",
       "      <td>34</td>\n",
       "    </tr>\n",
       "  </tbody>\n",
       "</table>\n",
       "</div>"
      ],
      "text/plain": [
       "   PRODUCT  DRAW NUMBER  SEQUENCE NUMBER  DRAW DATE  NUMBER DRAWN 1  \\\n",
       "0      649            1                0  6/12/1982               3   \n",
       "1      649            2                0  6/19/1982               8   \n",
       "2      649            3                0  6/26/1982               1   \n",
       "\n",
       "   NUMBER DRAWN 2  NUMBER DRAWN 3  NUMBER DRAWN 4  NUMBER DRAWN 5  \\\n",
       "0              11              12              14              41   \n",
       "1              33              36              37              39   \n",
       "2               6              23              24              27   \n",
       "\n",
       "   NUMBER DRAWN 6  BONUS NUMBER  \n",
       "0              43            13  \n",
       "1              41             9  \n",
       "2              39            34  "
      ]
     },
     "execution_count": 5,
     "metadata": {},
     "output_type": "execute_result"
    }
   ],
   "source": [
    "data = pd.read_csv('649.csv')\n",
    "print(data.shape)\n",
    "data.head(3)"
   ]
  },
  {
   "cell_type": "code",
   "execution_count": 6,
   "id": "15aec79b",
   "metadata": {
    "ExecuteTime": {
     "end_time": "2021-12-15T01:53:58.144049Z",
     "start_time": "2021-12-15T01:53:58.136240Z"
    },
    "execution": {
     "iopub.execute_input": "2022-04-29T16:04:53.284112Z",
     "iopub.status.busy": "2022-04-29T16:04:53.284112Z",
     "iopub.status.idle": "2022-04-29T16:04:53.298973Z",
     "shell.execute_reply": "2022-04-29T16:04:53.298973Z",
     "shell.execute_reply.started": "2022-04-29T16:04:53.284112Z"
    }
   },
   "outputs": [
    {
     "data": {
      "text/html": [
       "<div>\n",
       "<style scoped>\n",
       "    .dataframe tbody tr th:only-of-type {\n",
       "        vertical-align: middle;\n",
       "    }\n",
       "\n",
       "    .dataframe tbody tr th {\n",
       "        vertical-align: top;\n",
       "    }\n",
       "\n",
       "    .dataframe thead th {\n",
       "        text-align: right;\n",
       "    }\n",
       "</style>\n",
       "<table border=\"1\" class=\"dataframe\">\n",
       "  <thead>\n",
       "    <tr style=\"text-align: right;\">\n",
       "      <th></th>\n",
       "      <th>PRODUCT</th>\n",
       "      <th>DRAW NUMBER</th>\n",
       "      <th>SEQUENCE NUMBER</th>\n",
       "      <th>DRAW DATE</th>\n",
       "      <th>NUMBER DRAWN 1</th>\n",
       "      <th>NUMBER DRAWN 2</th>\n",
       "      <th>NUMBER DRAWN 3</th>\n",
       "      <th>NUMBER DRAWN 4</th>\n",
       "      <th>NUMBER DRAWN 5</th>\n",
       "      <th>NUMBER DRAWN 6</th>\n",
       "      <th>BONUS NUMBER</th>\n",
       "    </tr>\n",
       "  </thead>\n",
       "  <tbody>\n",
       "    <tr>\n",
       "      <th>3662</th>\n",
       "      <td>649</td>\n",
       "      <td>3589</td>\n",
       "      <td>0</td>\n",
       "      <td>6/13/2018</td>\n",
       "      <td>6</td>\n",
       "      <td>22</td>\n",
       "      <td>24</td>\n",
       "      <td>31</td>\n",
       "      <td>32</td>\n",
       "      <td>34</td>\n",
       "      <td>16</td>\n",
       "    </tr>\n",
       "    <tr>\n",
       "      <th>3663</th>\n",
       "      <td>649</td>\n",
       "      <td>3590</td>\n",
       "      <td>0</td>\n",
       "      <td>6/16/2018</td>\n",
       "      <td>2</td>\n",
       "      <td>15</td>\n",
       "      <td>21</td>\n",
       "      <td>31</td>\n",
       "      <td>38</td>\n",
       "      <td>49</td>\n",
       "      <td>8</td>\n",
       "    </tr>\n",
       "    <tr>\n",
       "      <th>3664</th>\n",
       "      <td>649</td>\n",
       "      <td>3591</td>\n",
       "      <td>0</td>\n",
       "      <td>6/20/2018</td>\n",
       "      <td>14</td>\n",
       "      <td>24</td>\n",
       "      <td>31</td>\n",
       "      <td>35</td>\n",
       "      <td>37</td>\n",
       "      <td>48</td>\n",
       "      <td>17</td>\n",
       "    </tr>\n",
       "  </tbody>\n",
       "</table>\n",
       "</div>"
      ],
      "text/plain": [
       "      PRODUCT  DRAW NUMBER  SEQUENCE NUMBER  DRAW DATE  NUMBER DRAWN 1  \\\n",
       "3662      649         3589                0  6/13/2018               6   \n",
       "3663      649         3590                0  6/16/2018               2   \n",
       "3664      649         3591                0  6/20/2018              14   \n",
       "\n",
       "      NUMBER DRAWN 2  NUMBER DRAWN 3  NUMBER DRAWN 4  NUMBER DRAWN 5  \\\n",
       "3662              22              24              31              32   \n",
       "3663              15              21              31              38   \n",
       "3664              24              31              35              37   \n",
       "\n",
       "      NUMBER DRAWN 6  BONUS NUMBER  \n",
       "3662              34            16  \n",
       "3663              49             8  \n",
       "3664              48            17  "
      ]
     },
     "execution_count": 6,
     "metadata": {},
     "output_type": "execute_result"
    }
   ],
   "source": [
    "data.tail(3)"
   ]
  },
  {
   "cell_type": "markdown",
   "id": "e36cf951",
   "metadata": {},
   "source": [
    "We can see that we have data for 3,665 lottery draws, along with the date and the order in which they were drawn. Now we're going to create a function that will enable users to compare their ticket against the historical data and determine whether they would have ever won by now. The engineering team wants us to print:\n",
    "* The number of times the combination selected occured in the Canada data set.\n",
    "* the probability of winning the big prize in the next drawing with that combination."
   ]
  },
  {
   "cell_type": "code",
   "execution_count": 7,
   "id": "2fde9cc4",
   "metadata": {
    "ExecuteTime": {
     "end_time": "2021-12-15T01:53:58.147953Z",
     "start_time": "2021-12-15T01:53:58.145025Z"
    },
    "execution": {
     "iopub.execute_input": "2022-04-29T16:04:53.299925Z",
     "iopub.status.busy": "2022-04-29T16:04:53.299925Z",
     "iopub.status.idle": "2022-04-29T16:04:53.313932Z",
     "shell.execute_reply": "2022-04-29T16:04:53.313932Z",
     "shell.execute_reply.started": "2022-04-29T16:04:53.299925Z"
    }
   },
   "outputs": [],
   "source": [
    "def extract_numbers(row):\n",
    "    row = row[4:10]\n",
    "    row = set(row.values)\n",
    "    return row"
   ]
  },
  {
   "cell_type": "code",
   "execution_count": 8,
   "id": "6200de1c",
   "metadata": {
    "ExecuteTime": {
     "end_time": "2021-12-15T01:53:58.260201Z",
     "start_time": "2021-12-15T01:53:58.148929Z"
    },
    "execution": {
     "iopub.execute_input": "2022-04-29T16:04:53.314927Z",
     "iopub.status.busy": "2022-04-29T16:04:53.314927Z",
     "iopub.status.idle": "2022-04-29T16:04:53.423167Z",
     "shell.execute_reply": "2022-04-29T16:04:53.423167Z",
     "shell.execute_reply.started": "2022-04-29T16:04:53.314927Z"
    }
   },
   "outputs": [],
   "source": [
    "winners = data.apply(extract_numbers, axis=1)"
   ]
  },
  {
   "cell_type": "code",
   "execution_count": 9,
   "id": "9107d067",
   "metadata": {
    "ExecuteTime": {
     "end_time": "2021-12-15T01:53:58.265189Z",
     "start_time": "2021-12-15T01:53:58.261182Z"
    },
    "execution": {
     "iopub.execute_input": "2022-04-29T16:04:53.424168Z",
     "iopub.status.busy": "2022-04-29T16:04:53.424168Z",
     "iopub.status.idle": "2022-04-29T16:04:53.438327Z",
     "shell.execute_reply": "2022-04-29T16:04:53.438327Z",
     "shell.execute_reply.started": "2022-04-29T16:04:53.424168Z"
    },
    "tags": []
   },
   "outputs": [],
   "source": [
    "def check_historical_occurence(user_nums,winners):\n",
    "    numbers = set(user_nums)\n",
    "    occurrence = numbers == winners\n",
    "    n_occurrence = occurrence.sum()\n",
    "    \n",
    "    if n_occurrence == 0:\n",
    "        print('The numbers {} have never been drawn.'.format(user_nums))\n",
    "        print('This does not make it more likely that they will be drawn soon.')\n",
    "        print('Your chances to win the big prize in the next drawing using {} are 0.0000072%.'.format(user_nums))\n",
    "        print('In other words, you have a 1 in 13,983,816 chances to win.')\n",
    "    else:\n",
    "        if n_occurrence == 1:\n",
    "            print('The numbers {} have been drawn {} time in the past.'.format(user_nums, n_occurrence))\n",
    "        else:\n",
    "            print('The numbers {} have been drawn {} times in the past.'.format(user_nums, n_occurrence))\n",
    "        print('Your chances to win the big prize in the next drawing using {} are 0.0000072%.'.format(user_nums))\n",
    "        print('In other words, you have a 1 in 13,983,816 chances to win.')"
   ]
  },
  {
   "cell_type": "code",
   "execution_count": 10,
   "id": "741da4db",
   "metadata": {
    "ExecuteTime": {
     "end_time": "2021-12-15T01:53:58.275893Z",
     "start_time": "2021-12-15T01:53:58.271989Z"
    },
    "execution": {
     "iopub.execute_input": "2022-04-29T16:04:53.439065Z",
     "iopub.status.busy": "2022-04-29T16:04:53.439065Z",
     "iopub.status.idle": "2022-04-29T16:04:53.454049Z",
     "shell.execute_reply": "2022-04-29T16:04:53.454049Z",
     "shell.execute_reply.started": "2022-04-29T16:04:53.439065Z"
    },
    "tags": []
   },
   "outputs": [
    {
     "name": "stdout",
     "output_type": "stream",
     "text": [
      "The numbers [4, 8, 15, 16, 23, 42] have never been drawn.\n",
      "This does not make it more likely that they will be drawn soon.\n",
      "Your chances to win the big prize in the next drawing using [4, 8, 15, 16, 23, 42] are 0.0000072%.\n",
      "In other words, you have a 1 in 13,983,816 chances to win.\n"
     ]
    }
   ],
   "source": [
    "test4 = [4,8,15,16,23,42]\n",
    "check_historical_occurence(test4,winners)"
   ]
  },
  {
   "cell_type": "markdown",
   "id": "bfc2446d",
   "metadata": {},
   "source": [
    "## Multi-Ticket Probability\n",
    "\n",
    "People addicted to the lottery are most likely going to play more than one ticket on a single drawing. The purpose of this app is to help them better understand their chances of winning. We're going to write a new function that will allow the user to calculate the chances of winning for any number of different tickets. Again, the engineering team has given us some helpful information:\n",
    "\n",
    "* The user will input the *number* of different tickets they'd like to play (without inputting the specific combination of numbers).\n",
    "* Our function will see that as a number between 1 and 13,983,816 (the maximum possible number of unique tickets).\n",
    "* The function should print information about the probability of winning the big prize depending on the number of different tickets played."
   ]
  },
  {
   "cell_type": "code",
   "execution_count": 11,
   "id": "c8225892",
   "metadata": {
    "ExecuteTime": {
     "end_time": "2021-12-15T01:53:58.279798Z",
     "start_time": "2021-12-15T01:53:58.275893Z"
    },
    "code_folding": [],
    "execution": {
     "iopub.execute_input": "2022-04-29T16:04:53.455046Z",
     "iopub.status.busy": "2022-04-29T16:04:53.455046Z",
     "iopub.status.idle": "2022-04-29T16:04:53.470089Z",
     "shell.execute_reply": "2022-04-29T16:04:53.470089Z",
     "shell.execute_reply.started": "2022-04-29T16:04:53.455046Z"
    }
   },
   "outputs": [],
   "source": [
    "total_outcomes = combinations(49,6)\n",
    "def multi_ticket_probability(num_tickets):\n",
    "    multi_prob = (num_tickets / total_outcomes) * 100\n",
    "    if num_tickets == 1:\n",
    "        print('The probability of winning by playing 1 ticket is: {:.7f}%.'.format(multi_prob))\n",
    "    else:\n",
    "        print('The probability of winning by playing {} tickets is: {:.7f}%.'.format(num_tickets, multi_prob))\n",
    "    combos = total_outcomes / num_tickets\n",
    "    print('In other words, you have 1 in {:,} chances to win.'.format(int(combos)))"
   ]
  },
  {
   "cell_type": "code",
   "execution_count": 12,
   "id": "64d419c3",
   "metadata": {
    "ExecuteTime": {
     "end_time": "2021-12-15T01:53:58.285703Z",
     "start_time": "2021-12-15T01:53:58.280773Z"
    },
    "execution": {
     "iopub.execute_input": "2022-04-29T16:04:53.471074Z",
     "iopub.status.busy": "2022-04-29T16:04:53.471074Z",
     "iopub.status.idle": "2022-04-29T16:04:53.485971Z",
     "shell.execute_reply": "2022-04-29T16:04:53.485971Z",
     "shell.execute_reply.started": "2022-04-29T16:04:53.471074Z"
    }
   },
   "outputs": [
    {
     "name": "stdout",
     "output_type": "stream",
     "text": [
      "The probability of winning by playing 1 ticket is: 0.0000072%.\n",
      "In other words, you have 1 in 13,983,816 chances to win.\n",
      "------------------\n",
      "The probability of winning by playing 10 tickets is: 0.0000715%.\n",
      "In other words, you have 1 in 1,398,381 chances to win.\n",
      "------------------\n",
      "The probability of winning by playing 100 tickets is: 0.0007151%.\n",
      "In other words, you have 1 in 139,838 chances to win.\n",
      "------------------\n",
      "The probability of winning by playing 10000 tickets is: 0.0715112%.\n",
      "In other words, you have 1 in 1,398 chances to win.\n",
      "------------------\n",
      "The probability of winning by playing 1000000 tickets is: 7.1511238%.\n",
      "In other words, you have 1 in 13 chances to win.\n",
      "------------------\n",
      "The probability of winning by playing 6991908 tickets is: 50.0000000%.\n",
      "In other words, you have 1 in 2 chances to win.\n",
      "------------------\n",
      "The probability of winning by playing 13983816 tickets is: 100.0000000%.\n",
      "In other words, you have 1 in 1 chances to win.\n",
      "------------------\n"
     ]
    }
   ],
   "source": [
    "test5 = [1, 10, 100, 10000, 1000000, 6991908, 13983816]\n",
    "for i in test5:\n",
    "    multi_ticket_probability(i)\n",
    "    print('------------------')"
   ]
  },
  {
   "cell_type": "markdown",
   "id": "98dbe357",
   "metadata": {},
   "source": [
    "## N-digit Probability\n",
    "\n",
    "We're going to create one more function that will allow the user to calculate the probabilities for two, three, four, or five winning numbers. In most 6/49 lotteries, players can win a smaller prize if they match two, three, four, or five of the numbers drawn. The users might be interested in known the probabilities for certain amounts of numbers. The engineering team has again given us the following information:\n",
    "* In the app, the user will input:\n",
    "    * Six different numbers from 1 to 49, and\n",
    "    * an integer between 2 and 5 that represents the number of winning numbers expected.\n",
    "* The function will print the probability of having the inputted number of winning numbers."
   ]
  },
  {
   "cell_type": "code",
   "execution_count": 13,
   "id": "a6ca8e6c",
   "metadata": {
    "ExecuteTime": {
     "end_time": "2021-12-15T01:53:58.289607Z",
     "start_time": "2021-12-15T01:53:58.286679Z"
    },
    "execution": {
     "iopub.execute_input": "2022-04-29T16:04:53.486968Z",
     "iopub.status.busy": "2022-04-29T16:04:53.486968Z",
     "iopub.status.idle": "2022-04-29T16:04:53.501318Z",
     "shell.execute_reply": "2022-04-29T16:04:53.501318Z",
     "shell.execute_reply.started": "2022-04-29T16:04:53.486968Z"
    }
   },
   "outputs": [],
   "source": [
    "def probability_less_6(num):\n",
    "    combos = combinations(6,num)\n",
    "    possible_wins = combinations(43, 6-num)\n",
    "    total_wins = combos * possible_wins\n",
    "    probability = total_wins / total_outcomes * 100\n",
    "    combos_total = round(total_outcomes / total_wins)\n",
    "    print('The chance of winning by matching {} numbers is {:.7f}%'.format(num,probability))\n",
    "    print('In other words, you have a 1 in {} chance of winning.'.format(combos_total))"
   ]
  },
  {
   "cell_type": "code",
   "execution_count": 14,
   "id": "d20b65e2",
   "metadata": {
    "ExecuteTime": {
     "end_time": "2021-12-15T01:53:58.295445Z",
     "start_time": "2021-12-15T01:53:58.290583Z"
    },
    "execution": {
     "iopub.execute_input": "2022-04-29T16:04:53.502309Z",
     "iopub.status.busy": "2022-04-29T16:04:53.502309Z",
     "iopub.status.idle": "2022-04-29T16:04:53.517429Z",
     "shell.execute_reply": "2022-04-29T16:04:53.517429Z",
     "shell.execute_reply.started": "2022-04-29T16:04:53.502309Z"
    }
   },
   "outputs": [
    {
     "name": "stdout",
     "output_type": "stream",
     "text": [
      "The chance of winning by matching 2 numbers is 13.2378029%\n",
      "In other words, you have a 1 in 8 chance of winning.\n",
      "------------------\n",
      "The chance of winning by matching 3 numbers is 1.7650404%\n",
      "In other words, you have a 1 in 57 chance of winning.\n",
      "------------------\n",
      "The chance of winning by matching 4 numbers is 0.0968620%\n",
      "In other words, you have a 1 in 1032 chance of winning.\n",
      "------------------\n",
      "The chance of winning by matching 5 numbers is 0.0018450%\n",
      "In other words, you have a 1 in 54201 chance of winning.\n",
      "------------------\n"
     ]
    }
   ],
   "source": [
    "test6 = [2,3,4,5]\n",
    "for i in test6:\n",
    "    probability_less_6(i)\n",
    "    print('------------------')"
   ]
  },
  {
   "cell_type": "markdown",
   "id": "02ae6153",
   "metadata": {},
   "source": [
    "In the first version of our app, we have programmed four functions:\n",
    "\n",
    "* `one_ticket_probability()` — calculates the probability of winning the big prize with a single ticket\n",
    "* `check_historical_occurrence()` — checks whether a certain combination has occurred in the Canada lottery data set\n",
    "* `multi_ticket_probability()` — calculates the probability for any number of of tickets between 1 and 13,983,816\n",
    "* `probability_less_6()` — calculates the probability of having two, three, four or five winning numbers"
   ]
  },
  {
   "cell_type": "markdown",
   "id": "076b417e",
   "metadata": {},
   "source": [
    "## Probability of Having Less Winning Numbers - At Least N\n",
    "\n",
    "Finally, let's consider the case when the user is interested in knowing the probability of having *at least* two, three, four, or five winning numbers. This function will be similar to our previous function, except that the number of successful outcomes for having at least N winning numbers will be the sum of the numbers of successful outcomes for having exactly N winning numbers, N+1, etc., up to and including 6."
   ]
  },
  {
   "cell_type": "code",
   "execution_count": 15,
   "id": "cd242842",
   "metadata": {
    "ExecuteTime": {
     "end_time": "2021-12-15T01:53:58.299349Z",
     "start_time": "2021-12-15T01:53:58.295445Z"
    },
    "execution": {
     "iopub.execute_input": "2022-04-29T16:04:53.518086Z",
     "iopub.status.busy": "2022-04-29T16:04:53.518086Z",
     "iopub.status.idle": "2022-04-29T16:04:53.532815Z",
     "shell.execute_reply": "2022-04-29T16:04:53.532815Z",
     "shell.execute_reply.started": "2022-04-29T16:04:53.518086Z"
    }
   },
   "outputs": [],
   "source": [
    "def probability_at_least_num(num):\n",
    "    successes = 0\n",
    "    for n in range(num,7):\n",
    "        comb = combinations(6,n)\n",
    "        lottery_outcomes = combinations(43, 6-n)\n",
    "        successes += comb * lottery_outcomes\n",
    "    probability = successes / total_outcomes * 100\n",
    "    combos_total = round(total_outcomes / successes)\n",
    "    print('The chance of winning by having at least {} numbers is {:.7f}%'.format(num,probability))\n",
    "    print('In other words, you have a 1 in {} chance of winning.'.format(combos_total))"
   ]
  },
  {
   "cell_type": "code",
   "execution_count": 16,
   "id": "bcca94cc",
   "metadata": {
    "ExecuteTime": {
     "end_time": "2021-12-15T01:53:58.310085Z",
     "start_time": "2021-12-15T01:53:58.299349Z"
    },
    "execution": {
     "iopub.execute_input": "2022-04-29T16:04:53.533816Z",
     "iopub.status.busy": "2022-04-29T16:04:53.533816Z",
     "iopub.status.idle": "2022-04-29T16:04:53.548052Z",
     "shell.execute_reply": "2022-04-29T16:04:53.548052Z",
     "shell.execute_reply.started": "2022-04-29T16:04:53.533816Z"
    },
    "tags": []
   },
   "outputs": [
    {
     "name": "stdout",
     "output_type": "stream",
     "text": [
      "The chance of winning by having at least 2 numbers is 15.1015574%\n",
      "In other words, you have a 1 in 7 chance of winning.\n",
      "------------------\n",
      "The chance of winning by having at least 3 numbers is 1.8637545%\n",
      "In other words, you have a 1 in 54 chance of winning.\n",
      "------------------\n",
      "The chance of winning by having at least 4 numbers is 0.0987141%\n",
      "In other words, you have a 1 in 1013 chance of winning.\n",
      "------------------\n",
      "The chance of winning by having at least 5 numbers is 0.0018521%\n",
      "In other words, you have a 1 in 53992 chance of winning.\n",
      "------------------\n"
     ]
    }
   ],
   "source": [
    "test7 = [2,3,4,5]\n",
    "for i in test7:\n",
    "    probability_at_least_num(i)\n",
    "    print('------------------')"
   ]
  }
 ],
 "metadata": {
  "kernelspec": {
   "display_name": "Python 3 (ipykernel)",
   "language": "python",
   "name": "python3"
  },
  "language_info": {
   "codemirror_mode": {
    "name": "ipython",
    "version": 3
   },
   "file_extension": ".py",
   "mimetype": "text/x-python",
   "name": "python",
   "nbconvert_exporter": "python",
   "pygments_lexer": "ipython3",
   "version": "3.10.2"
  },
  "toc": {
   "base_numbering": 1,
   "nav_menu": {},
   "number_sections": true,
   "sideBar": true,
   "skip_h1_title": false,
   "title_cell": "Table of Contents",
   "title_sidebar": "Contents",
   "toc_cell": false,
   "toc_position": {},
   "toc_section_display": true,
   "toc_window_display": false
  },
  "widgets": {
   "application/vnd.jupyter.widget-state+json": {
    "state": {},
    "version_major": 2,
    "version_minor": 0
   }
  }
 },
 "nbformat": 4,
 "nbformat_minor": 5
}
